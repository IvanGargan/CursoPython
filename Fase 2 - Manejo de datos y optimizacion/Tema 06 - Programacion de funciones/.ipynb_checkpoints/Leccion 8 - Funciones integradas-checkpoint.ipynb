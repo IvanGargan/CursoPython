{
 "cells": [
  {
   "cell_type": "code",
   "execution_count": 2,
   "metadata": {},
   "outputs": [
    {
     "data": {
      "text/plain": [
       "10"
      ]
     },
     "execution_count": 2,
     "metadata": {},
     "output_type": "execute_result"
    }
   ],
   "source": [
    "n = int(\"10\")\n",
    "n"
   ]
  },
  {
   "cell_type": "code",
   "execution_count": 3,
   "metadata": {},
   "outputs": [
    {
     "data": {
      "text/plain": [
       "10.5"
      ]
     },
     "execution_count": 3,
     "metadata": {},
     "output_type": "execute_result"
    }
   ],
   "source": [
    "f = float(\"10.5\")\n",
    "f"
   ]
  },
  {
   "cell_type": "code",
   "execution_count": 6,
   "metadata": {},
   "outputs": [
    {
     "data": {
      "text/plain": [
       "'Un texto y un nuúmero 10 3.14'"
      ]
     },
     "execution_count": 6,
     "metadata": {},
     "output_type": "execute_result"
    }
   ],
   "source": [
    "c = str(\"Un texto y un nuúmero \" + str(10)+\" \"+str(3.14))\n",
    "c"
   ]
  },
  {
   "cell_type": "code",
   "execution_count": 15,
   "metadata": {},
   "outputs": [
    {
     "data": {
      "text/plain": [
       "'0b100011'"
      ]
     },
     "execution_count": 15,
     "metadata": {},
     "output_type": "execute_result"
    }
   ],
   "source": [
    "bin(35)"
   ]
  },
  {
   "cell_type": "code",
   "execution_count": 16,
   "metadata": {},
   "outputs": [
    {
     "data": {
      "text/plain": [
       "'0x23'"
      ]
     },
     "execution_count": 16,
     "metadata": {},
     "output_type": "execute_result"
    }
   ],
   "source": [
    "hex(35)"
   ]
  },
  {
   "cell_type": "code",
   "execution_count": 17,
   "metadata": {},
   "outputs": [
    {
     "data": {
      "text/plain": [
       "35"
      ]
     },
     "execution_count": 17,
     "metadata": {},
     "output_type": "execute_result"
    }
   ],
   "source": [
    "int('0b100011',2)"
   ]
  },
  {
   "cell_type": "code",
   "execution_count": 18,
   "metadata": {},
   "outputs": [
    {
     "data": {
      "text/plain": [
       "35"
      ]
     },
     "execution_count": 18,
     "metadata": {},
     "output_type": "execute_result"
    }
   ],
   "source": [
    "int('0x23',16)"
   ]
  },
  {
   "cell_type": "code",
   "execution_count": 19,
   "metadata": {},
   "outputs": [
    {
     "data": {
      "text/plain": [
       "35"
      ]
     },
     "execution_count": 19,
     "metadata": {},
     "output_type": "execute_result"
    }
   ],
   "source": [
    "abs(35)"
   ]
  },
  {
   "cell_type": "code",
   "execution_count": 20,
   "metadata": {},
   "outputs": [
    {
     "data": {
      "text/plain": [
       "35"
      ]
     },
     "execution_count": 20,
     "metadata": {},
     "output_type": "execute_result"
    }
   ],
   "source": [
    "abs(-35)"
   ]
  },
  {
   "cell_type": "code",
   "execution_count": 21,
   "metadata": {},
   "outputs": [
    {
     "data": {
      "text/plain": [
       "6"
      ]
     },
     "execution_count": 21,
     "metadata": {},
     "output_type": "execute_result"
    }
   ],
   "source": [
    "round(5.5)"
   ]
  },
  {
   "cell_type": "code",
   "execution_count": 22,
   "metadata": {},
   "outputs": [
    {
     "data": {
      "text/plain": [
       "5"
      ]
     },
     "execution_count": 22,
     "metadata": {},
     "output_type": "execute_result"
    }
   ],
   "source": [
    "round(5.4)"
   ]
  },
  {
   "cell_type": "code",
   "execution_count": 24,
   "metadata": {},
   "outputs": [
    {
     "data": {
      "text/plain": [
       "7"
      ]
     },
     "execution_count": 24,
     "metadata": {},
     "output_type": "execute_result"
    }
   ],
   "source": [
    "eval(\"2+5\")"
   ]
  },
  {
   "cell_type": "code",
   "execution_count": 25,
   "metadata": {},
   "outputs": [
    {
     "data": {
      "text/plain": [
       "95"
      ]
     },
     "execution_count": 25,
     "metadata": {},
     "output_type": "execute_result"
    }
   ],
   "source": [
    "n = 10\n",
    "eval(\"n*10 - 5\")"
   ]
  },
  {
   "cell_type": "code",
   "execution_count": 27,
   "metadata": {},
   "outputs": [
    {
     "data": {
      "text/plain": [
       "10"
      ]
     },
     "execution_count": 27,
     "metadata": {},
     "output_type": "execute_result"
    }
   ],
   "source": [
    "len(\"Una cadena\")"
   ]
  },
  {
   "cell_type": "code",
   "execution_count": 28,
   "metadata": {},
   "outputs": [
    {
     "data": {
      "text/plain": [
       "0"
      ]
     },
     "execution_count": 28,
     "metadata": {},
     "output_type": "execute_result"
    }
   ],
   "source": [
    "len([])"
   ]
  },
  {
   "cell_type": "code",
   "execution_count": null,
   "metadata": {},
   "outputs": [
    {
     "name": "stdout",
     "output_type": "stream",
     "text": [
      "\n",
      "Welcome to Python 3.6's help utility!\n",
      "\n",
      "If this is your first time using Python, you should definitely check out\n",
      "the tutorial on the Internet at https://docs.python.org/3.6/tutorial/.\n",
      "\n",
      "Enter the name of any module, keyword, or topic to get help on writing\n",
      "Python programs and using Python modules.  To quit this help utility and\n",
      "return to the interpreter, just type \"quit\".\n",
      "\n",
      "To get a list of available modules, keywords, symbols, or topics, type\n",
      "\"modules\", \"keywords\", \"symbols\", or \"topics\".  Each module also comes\n",
      "with a one-line summary of what it does; to list the modules whose name\n",
      "or summary contain a given string such as \"spam\", type \"modules spam\".\n",
      "\n",
      "help> topics\n",
      "\n",
      "Here is a list of available topics.  Enter any topic name to get more help.\n",
      "\n",
      "ASSERTION           DELETION            LOOPING             SHIFTING\n",
      "ASSIGNMENT          DICTIONARIES        MAPPINGMETHODS      SLICINGS\n",
      "ATTRIBUTEMETHODS    DICTIONARYLITERALS  MAPPINGS            SPECIALATTRIBUTES\n",
      "ATTRIBUTES          DYNAMICFEATURES     METHODS             SPECIALIDENTIFIERS\n",
      "AUGMENTEDASSIGNMENT ELLIPSIS            MODULES             SPECIALMETHODS\n",
      "BASICMETHODS        EXCEPTIONS          NAMESPACES          STRINGMETHODS\n",
      "BINARY              EXECUTION           NONE                STRINGS\n",
      "BITWISE             EXPRESSIONS         NUMBERMETHODS       SUBSCRIPTS\n",
      "BOOLEAN             FLOAT               NUMBERS             TRACEBACKS\n",
      "CALLABLEMETHODS     FORMATTING          OBJECTS             TRUTHVALUE\n",
      "CALLS               FRAMEOBJECTS        OPERATORS           TUPLELITERALS\n",
      "CLASSES             FRAMES              PACKAGES            TUPLES\n",
      "CODEOBJECTS         FUNCTIONS           POWER               TYPEOBJECTS\n",
      "COMPARISON          IDENTIFIERS         PRECEDENCE          TYPES\n",
      "COMPLEX             IMPORTING           PRIVATENAMES        UNARY\n",
      "CONDITIONAL         INTEGER             RETURNING           UNICODE\n",
      "CONTEXTMANAGERS     LISTLITERALS        SCOPING             \n",
      "CONVERSIONS         LISTS               SEQUENCEMETHODS     \n",
      "DEBUGGING           LITERALS            SEQUENCES           \n",
      "\n",
      "help> atttributes\n",
      "No Python documentation found for 'atttributes'.\n",
      "Use help() to get the interactive help utility.\n",
      "Use help(str) for help on the str class.\n",
      "\n",
      "help> ATTRIBUTEMETHODS\n",
      "Customizing attribute access\n",
      "****************************\n",
      "\n",
      "The following methods can be defined to customize the meaning of\n",
      "attribute access (use of, assignment to, or deletion of \"x.name\") for\n",
      "class instances.\n",
      "\n",
      "object.__getattr__(self, name)\n",
      "\n",
      "   Called when the default attribute access fails with an\n",
      "   \"AttributeError\" (either \"__getattribute__()\" raises an\n",
      "   \"AttributeError\" because *name* is not an instance attribute or an\n",
      "   attribute in the class tree for \"self\"; or \"__get__()\" of a *name*\n",
      "   property raises \"AttributeError\").  This method should either\n",
      "   return the (computed) attribute value or raise an \"AttributeError\"\n",
      "   exception.\n",
      "\n",
      "   Note that if the attribute is found through the normal mechanism,\n",
      "   \"__getattr__()\" is not called.  (This is an intentional asymmetry\n",
      "   between \"__getattr__()\" and \"__setattr__()\".) This is done both for\n",
      "   efficiency reasons and because otherwise \"__getattr__()\" would have\n",
      "   no way to access other attributes of the instance.  Note that at\n",
      "   least for instance variables, you can fake total control by not\n",
      "   inserting any values in the instance attribute dictionary (but\n",
      "   instead inserting them in another object).  See the\n",
      "   \"__getattribute__()\" method below for a way to actually get total\n",
      "   control over attribute access.\n",
      "\n",
      "object.__getattribute__(self, name)\n",
      "\n",
      "   Called unconditionally to implement attribute accesses for\n",
      "   instances of the class. If the class also defines \"__getattr__()\",\n",
      "   the latter will not be called unless \"__getattribute__()\" either\n",
      "   calls it explicitly or raises an \"AttributeError\". This method\n",
      "   should return the (computed) attribute value or raise an\n",
      "   \"AttributeError\" exception. In order to avoid infinite recursion in\n",
      "   this method, its implementation should always call the base class\n",
      "   method with the same name to access any attributes it needs, for\n",
      "   example, \"object.__getattribute__(self, name)\".\n",
      "\n",
      "   Note: This method may still be bypassed when looking up special\n",
      "     methods as the result of implicit invocation via language syntax\n",
      "     or built-in functions. See Special method lookup.\n",
      "\n",
      "object.__setattr__(self, name, value)\n",
      "\n",
      "   Called when an attribute assignment is attempted.  This is called\n",
      "   instead of the normal mechanism (i.e. store the value in the\n",
      "   instance dictionary). *name* is the attribute name, *value* is the\n",
      "   value to be assigned to it.\n",
      "\n",
      "   If \"__setattr__()\" wants to assign to an instance attribute, it\n",
      "   should call the base class method with the same name, for example,\n",
      "   \"object.__setattr__(self, name, value)\".\n",
      "\n",
      "object.__delattr__(self, name)\n",
      "\n",
      "   Like \"__setattr__()\" but for attribute deletion instead of\n",
      "   assignment.  This should only be implemented if \"del obj.name\" is\n",
      "   meaningful for the object.\n",
      "\n",
      "object.__dir__(self)\n",
      "\n",
      "   Called when \"dir()\" is called on the object. A sequence must be\n",
      "   returned. \"dir()\" converts the returned sequence to a list and\n",
      "   sorts it.\n",
      "\n",
      "\n",
      "Customizing module attribute access\n",
      "===================================\n",
      "\n",
      "For a more fine grained customization of the module behavior (setting\n",
      "attributes, properties, etc.), one can set the \"__class__\" attribute\n",
      "of a module object to a subclass of \"types.ModuleType\". For example:\n",
      "\n",
      "   import sys\n",
      "   from types import ModuleType\n",
      "\n",
      "   class VerboseModule(ModuleType):\n",
      "       def __repr__(self):\n",
      "           return f'Verbose {self.__name__}'\n",
      "\n",
      "       def __setattr__(self, attr, value):\n",
      "           print(f'Setting {attr}...')\n",
      "           setattr(self, attr, value)\n",
      "\n",
      "   sys.modules[__name__].__class__ = VerboseModule\n",
      "\n",
      "Note: Setting module \"__class__\" only affects lookups made using the\n",
      "  attribute access syntax -- directly accessing the module globals\n",
      "  (whether by code within the module, or via a reference to the\n",
      "  module's globals dictionary) is unaffected.\n",
      "\n",
      "Changed in version 3.5: \"__class__\" module attribute is now writable.\n",
      "\n",
      "\n",
      "Implementing Descriptors\n",
      "========================\n",
      "\n",
      "The following methods only apply when an instance of the class\n",
      "containing the method (a so-called *descriptor* class) appears in an\n",
      "*owner* class (the descriptor must be in either the owner's class\n",
      "dictionary or in the class dictionary for one of its parents).  In the\n",
      "examples below, \"the attribute\" refers to the attribute whose name is\n",
      "the key of the property in the owner class' \"__dict__\".\n",
      "\n",
      "object.__get__(self, instance, owner)\n",
      "\n",
      "   Called to get the attribute of the owner class (class attribute\n",
      "   access) or of an instance of that class (instance attribute\n",
      "   access). *owner* is always the owner class, while *instance* is the\n",
      "   instance that the attribute was accessed through, or \"None\" when\n",
      "   the attribute is accessed through the *owner*.  This method should\n",
      "   return the (computed) attribute value or raise an \"AttributeError\"\n",
      "   exception.\n",
      "\n",
      "object.__set__(self, instance, value)\n",
      "\n",
      "   Called to set the attribute on an instance *instance* of the owner\n",
      "   class to a new value, *value*.\n",
      "\n",
      "object.__delete__(self, instance)\n",
      "\n",
      "   Called to delete the attribute on an instance *instance* of the\n",
      "   owner class.\n",
      "\n",
      "object.__set_name__(self, owner, name)\n",
      "\n",
      "   Called at the time the owning class *owner* is created. The\n",
      "   descriptor has been assigned to *name*.\n",
      "\n",
      "   New in version 3.6.\n",
      "\n",
      "The attribute \"__objclass__\" is interpreted by the \"inspect\" module as\n",
      "specifying the class where this object was defined (setting this\n",
      "appropriately can assist in runtime introspection of dynamic class\n",
      "attributes). For callables, it may indicate that an instance of the\n",
      "given type (or a subclass) is expected or required as the first\n",
      "positional argument (for example, CPython sets this attribute for\n",
      "unbound methods that are implemented in C).\n",
      "\n",
      "\n",
      "Invoking Descriptors\n",
      "====================\n",
      "\n",
      "In general, a descriptor is an object attribute with \"binding\n",
      "behavior\", one whose attribute access has been overridden by methods\n",
      "in the descriptor protocol:  \"__get__()\", \"__set__()\", and\n",
      "\"__delete__()\". If any of those methods are defined for an object, it\n",
      "is said to be a descriptor.\n",
      "\n",
      "The default behavior for attribute access is to get, set, or delete\n",
      "the attribute from an object's dictionary. For instance, \"a.x\" has a\n",
      "lookup chain starting with \"a.__dict__['x']\", then\n",
      "\"type(a).__dict__['x']\", and continuing through the base classes of\n",
      "\"type(a)\" excluding metaclasses.\n",
      "\n",
      "However, if the looked-up value is an object defining one of the\n",
      "descriptor methods, then Python may override the default behavior and\n",
      "invoke the descriptor method instead.  Where this occurs in the\n",
      "precedence chain depends on which descriptor methods were defined and\n",
      "how they were called.\n",
      "\n",
      "The starting point for descriptor invocation is a binding, \"a.x\". How\n",
      "the arguments are assembled depends on \"a\":\n",
      "\n",
      "Direct Call\n",
      "   The simplest and least common call is when user code directly\n",
      "   invokes a descriptor method:    \"x.__get__(a)\".\n",
      "\n",
      "Instance Binding\n",
      "   If binding to an object instance, \"a.x\" is transformed into the\n",
      "   call: \"type(a).__dict__['x'].__get__(a, type(a))\".\n",
      "\n",
      "Class Binding\n",
      "   If binding to a class, \"A.x\" is transformed into the call:\n",
      "   \"A.__dict__['x'].__get__(None, A)\".\n",
      "\n",
      "Super Binding\n",
      "   If \"a\" is an instance of \"super\", then the binding \"super(B,\n",
      "   obj).m()\" searches \"obj.__class__.__mro__\" for the base class \"A\"\n",
      "   immediately preceding \"B\" and then invokes the descriptor with the\n",
      "   call: \"A.__dict__['m'].__get__(obj, obj.__class__)\".\n",
      "\n",
      "For instance bindings, the precedence of descriptor invocation depends\n",
      "on the which descriptor methods are defined.  A descriptor can define\n",
      "any combination of \"__get__()\", \"__set__()\" and \"__delete__()\".  If it\n",
      "does not define \"__get__()\", then accessing the attribute will return\n",
      "the descriptor object itself unless there is a value in the object's\n",
      "instance dictionary.  If the descriptor defines \"__set__()\" and/or\n",
      "\"__delete__()\", it is a data descriptor; if it defines neither, it is\n",
      "a non-data descriptor.  Normally, data descriptors define both\n",
      "\"__get__()\" and \"__set__()\", while non-data descriptors have just the\n",
      "\"__get__()\" method.  Data descriptors with \"__set__()\" and \"__get__()\"\n",
      "defined always override a redefinition in an instance dictionary.  In\n",
      "contrast, non-data descriptors can be overridden by instances.\n",
      "\n",
      "Python methods (including \"staticmethod()\" and \"classmethod()\") are\n",
      "implemented as non-data descriptors.  Accordingly, instances can\n",
      "redefine and override methods.  This allows individual instances to\n",
      "acquire behaviors that differ from other instances of the same class.\n",
      "\n",
      "The \"property()\" function is implemented as a data descriptor.\n",
      "Accordingly, instances cannot override the behavior of a property.\n",
      "\n",
      "\n",
      "__slots__\n",
      "=========\n",
      "\n",
      "*__slots__* allow us to explicitly declare data members (like\n",
      "properties) and deny the creation of *__dict__* and *__weakref__*\n",
      "(unless explicitly declared in *__slots__* or available in a parent.)\n",
      "\n",
      "The space saved over using *__dict__* can be significant.\n",
      "\n",
      "object.__slots__\n",
      "\n",
      "   This class variable can be assigned a string, iterable, or sequence\n",
      "   of strings with variable names used by instances.  *__slots__*\n",
      "   reserves space for the declared variables and prevents the\n",
      "   automatic creation of *__dict__* and *__weakref__* for each\n",
      "   instance.\n",
      "\n",
      "\n",
      "Notes on using *__slots__*\n",
      "--------------------------\n",
      "\n",
      "* When inheriting from a class without *__slots__*, the *__dict__*\n",
      "  and *__weakref__* attribute of the instances will always be\n",
      "  accessible.\n",
      "\n",
      "* Without a *__dict__* variable, instances cannot be assigned new\n",
      "  variables not listed in the *__slots__* definition.  Attempts to\n",
      "  assign to an unlisted variable name raises \"AttributeError\". If\n",
      "  dynamic assignment of new variables is desired, then add\n",
      "  \"'__dict__'\" to the sequence of strings in the *__slots__*\n",
      "  declaration.\n",
      "\n",
      "* Without a *__weakref__* variable for each instance, classes\n",
      "  defining *__slots__* do not support weak references to its\n",
      "  instances. If weak reference support is needed, then add\n",
      "  \"'__weakref__'\" to the sequence of strings in the *__slots__*\n",
      "  declaration.\n",
      "\n",
      "* *__slots__* are implemented at the class level by creating\n",
      "  descriptors (Implementing Descriptors) for each variable name.  As a\n",
      "  result, class attributes cannot be used to set default values for\n",
      "  instance variables defined by *__slots__*; otherwise, the class\n",
      "  attribute would overwrite the descriptor assignment.\n",
      "\n",
      "* The action of a *__slots__* declaration is not limited to the\n",
      "  class where it is defined.  *__slots__* declared in parents are\n",
      "  available in child classes. However, child subclasses will get a\n",
      "  *__dict__* and *__weakref__* unless they also define *__slots__*\n",
      "  (which should only contain names of any *additional* slots).\n",
      "\n",
      "* If a class defines a slot also defined in a base class, the\n",
      "  instance variable defined by the base class slot is inaccessible\n",
      "  (except by retrieving its descriptor directly from the base class).\n",
      "  This renders the meaning of the program undefined.  In the future, a\n",
      "  check may be added to prevent this.\n",
      "\n",
      "* Nonempty *__slots__* does not work for classes derived from\n",
      "  \"variable-length\" built-in types such as \"int\", \"bytes\" and \"tuple\".\n",
      "\n",
      "* Any non-string iterable may be assigned to *__slots__*. Mappings\n",
      "  may also be used; however, in the future, special meaning may be\n",
      "  assigned to the values corresponding to each key.\n",
      "\n",
      "* *__class__* assignment works only if both classes have the same\n",
      "  *__slots__*.\n",
      "\n",
      "* Multiple inheritance with multiple slotted parent classes can be\n",
      "  used, but only one parent is allowed to have attributes created by\n",
      "  slots (the other bases must have empty slot layouts) - violations\n",
      "  raise \"TypeError\".\n",
      "\n",
      "Related help topics: ATTRIBUTES, SPECIALMETHODS\n",
      "\n"
     ]
    }
   ],
   "source": [
    "help()"
   ]
  },
  {
   "cell_type": "code",
   "execution_count": null,
   "metadata": {},
   "outputs": [],
   "source": []
  }
 ],
 "metadata": {
  "kernelspec": {
   "display_name": "Python 3",
   "language": "python",
   "name": "python3"
  },
  "language_info": {
   "codemirror_mode": {
    "name": "ipython",
    "version": 3
   },
   "file_extension": ".py",
   "mimetype": "text/x-python",
   "name": "python",
   "nbconvert_exporter": "python",
   "pygments_lexer": "ipython3",
   "version": "3.6.5"
  }
 },
 "nbformat": 4,
 "nbformat_minor": 1
}
