{
 "cells": [
  {
   "cell_type": "code",
   "execution_count": 8,
   "metadata": {},
   "outputs": [
    {
     "name": "stdout",
     "output_type": "stream",
     "text": [
      "Un texto, otro texto y un número 10\n"
     ]
    }
   ],
   "source": [
    "v = \"otro texto\"\n",
    "n = 10\n",
    "print(\"Un texto,\",v,\"y un número\",n)"
   ]
  },
  {
   "cell_type": "code",
   "execution_count": 13,
   "metadata": {},
   "outputs": [
    {
     "data": {
      "text/plain": [
       "'Un texto otro texto y un número 10.'"
      ]
     },
     "execution_count": 13,
     "metadata": {},
     "output_type": "execute_result"
    }
   ],
   "source": [
    "c = \"Un texto {} y un número {}.\".format(v,n)\n",
    "c"
   ]
  },
  {
   "cell_type": "code",
   "execution_count": 14,
   "metadata": {},
   "outputs": [
    {
     "name": "stdout",
     "output_type": "stream",
     "text": [
      "Un texto otro texto y un número 10.\n"
     ]
    }
   ],
   "source": [
    "print(c)"
   ]
  },
  {
   "cell_type": "code",
   "execution_count": 21,
   "metadata": {},
   "outputs": [
    {
     "name": "stdout",
     "output_type": "stream",
     "text": [
      "Un texto, 'otro texto' y un número '10'\n"
     ]
    }
   ],
   "source": [
    "print( \"Un texto, '{v}' y un número '{n}'\".format(v=v,n=n) )"
   ]
  },
  {
   "cell_type": "code",
   "execution_count": 24,
   "metadata": {},
   "outputs": [
    {
     "name": "stdout",
     "output_type": "stream",
     "text": [
      "otro texto, otro texto, otro texto\n"
     ]
    }
   ],
   "source": [
    "print(\"{v}, {v}, {v}\".format(v=v))"
   ]
  },
  {
   "cell_type": "code",
   "execution_count": 25,
   "metadata": {},
   "outputs": [
    {
     "name": "stdout",
     "output_type": "stream",
     "text": [
      "                       palabra\n"
     ]
    }
   ],
   "source": [
    "print(\"{:>30}\".format(\"palabra\")) #Alieneamiento a la derecha 30 caracteres"
   ]
  },
  {
   "cell_type": "code",
   "execution_count": 26,
   "metadata": {},
   "outputs": [
    {
     "name": "stdout",
     "output_type": "stream",
     "text": [
      "palabra                       \n"
     ]
    }
   ],
   "source": [
    "print(\"{:30}\".format(\"palabra\")) #Alieneamiento a la izquierda 30 caracteres"
   ]
  },
  {
   "cell_type": "code",
   "execution_count": 27,
   "metadata": {
    "scrolled": true
   },
   "outputs": [
    {
     "name": "stdout",
     "output_type": "stream",
     "text": [
      "           palabra            \n"
     ]
    }
   ],
   "source": [
    "print(\"{:^30}\".format(\"palabra\")) #Alieneamiento al centro en 30 caracteres"
   ]
  },
  {
   "cell_type": "code",
   "execution_count": 32,
   "metadata": {},
   "outputs": [
    {
     "name": "stdout",
     "output_type": "stream",
     "text": [
      "v\n"
     ]
    }
   ],
   "source": [
    "print(\"{:.5}\".format(\"palabra\")) #Truncamiento de 3 caracteres"
   ]
  },
  {
   "cell_type": "code",
   "execution_count": 33,
   "metadata": {},
   "outputs": [
    {
     "name": "stdout",
     "output_type": "stream",
     "text": [
      "                           pal\n"
     ]
    }
   ],
   "source": [
    "print(\"{:>30.3}\".format(\"palabra\")) #Alieneamiento a la derecha 30 caracteres con Truncamiento de 3 caracteres"
   ]
  },
  {
   "cell_type": "code",
   "execution_count": 37,
   "metadata": {},
   "outputs": [
    {
     "name": "stdout",
     "output_type": "stream",
     "text": [
      "0010\n",
      "0100\n",
      "1000\n"
     ]
    }
   ],
   "source": [
    "# Formateo de números enteros, rellenando con espacios\n",
    "print(\"{:4d}\".format(10))\n",
    "print(\"{:4d}\".format(100))\n",
    "print(\"{:4d}\".format(1000))"
   ]
  },
  {
   "cell_type": "code",
   "execution_count": 38,
   "metadata": {},
   "outputs": [
    {
     "name": "stdout",
     "output_type": "stream",
     "text": [
      "0010\n",
      "0100\n",
      "1000\n"
     ]
    }
   ],
   "source": [
    "# Formateo de números enteros, rellenando con espacios\n",
    "print(\"{:04d}\".format(10))\n",
    "print(\"{:04d}\".format(100))\n",
    "print(\"{:04d}\".format(1000))"
   ]
  },
  {
   "cell_type": "code",
   "execution_count": 43,
   "metadata": {},
   "outputs": [
    {
     "name": "stdout",
     "output_type": "stream",
     "text": [
      "  3.142\n",
      "153.210\n"
     ]
    }
   ],
   "source": [
    "# Formateo números flotantes, rellenados con espacios\n",
    "print(\"{:7.3f}\".format(3.1415926))\n",
    "print(\"{:7.3f}\".format(153.21))"
   ]
  },
  {
   "cell_type": "code",
   "execution_count": 44,
   "metadata": {},
   "outputs": [
    {
     "name": "stdout",
     "output_type": "stream",
     "text": [
      "003.142\n",
      "153.210\n"
     ]
    }
   ],
   "source": [
    "# Formateo números flotantes, rellenados con espacios\n",
    "print(\"{:07.3f}\".format(3.1415926))\n",
    "print(\"{:07.3f}\".format(153.21))"
   ]
  },
  {
   "cell_type": "code",
   "execution_count": null,
   "metadata": {},
   "outputs": [],
   "source": []
  }
 ],
 "metadata": {
  "kernelspec": {
   "display_name": "Python 3",
   "language": "python",
   "name": "python3"
  },
  "language_info": {
   "codemirror_mode": {
    "name": "ipython",
    "version": 3
   },
   "file_extension": ".py",
   "mimetype": "text/x-python",
   "name": "python",
   "nbconvert_exporter": "python",
   "pygments_lexer": "ipython3",
   "version": "3.6.5"
  }
 },
 "nbformat": 4,
 "nbformat_minor": 1
}
