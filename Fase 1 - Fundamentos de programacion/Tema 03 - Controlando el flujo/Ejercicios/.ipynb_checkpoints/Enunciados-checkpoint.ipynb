{
 "cells": [
  {
   "cell_type": "markdown",
   "metadata": {},
   "source": [
    "# Tema 03: Control de flujo (Enunciados)\n",
    "*Nota: Estos ejercicios son optativos para hacer al final de la unidad y están pensados para apoyar tu aprendizaje*."
   ]
  },
  {
   "cell_type": "markdown",
   "metadata": {},
   "source": [
    "**1) Realiza un programa que lea dos números por teclado y permita elegir entre 3 opciones en un menú:** \n",
    "* Mostrar una suma de los dos números\n",
    "* Mostrar una resta de los dos números (el primero menos el segundo)\n",
    "* Mostrar una multiplicación de los dos números\n",
    "* En caso de no introducir una opción válida, el programa informará de que no es correcta."
   ]
  },
  {
   "cell_type": "code",
   "execution_count": 11,
   "metadata": {},
   "outputs": [
    {
     "name": "stdout",
     "output_type": "stream",
     "text": [
      "Introduce un numero: 1\n",
      "Introduce otro numero: 1\n",
      "Que deseas hacer con los numeros?:\n",
      "1 - Sumar\n",
      "2 - Restar\n",
      "3 - Muliplicar\n",
      "Introduce la opcion: 1\n",
      "La suma es:  2.0\n"
     ]
    }
   ],
   "source": [
    "# Completa el ejercicio aquí\n",
    "n1 = float(input(\"Introduce un numero: \"))\n",
    "n2 = float(input(\"Introduce otro numero: \"))\n",
    "\n",
    "print(\"Que deseas hacer con los numeros?:\\n1 - Sumar\\n2 - Restar\\n3 - Muliplicar\")\n",
    "\n",
    "opcion = int(input(\"Introduce la opcion: \"))\n",
    "\n",
    "if opcion == 1:\n",
    "    print (\"La suma es: \", n1+n2)\n",
    "elif opcion == 2:\n",
    "    print (\"La resta es: \", n1-n2)\n",
    "elif opcion == 3:\n",
    "    print (\"La multiplicacion es: \", n1*n2)\n",
    "else:\n",
    "    print (\"No es un opcion valida\")\n"
   ]
  },
  {
   "cell_type": "markdown",
   "metadata": {},
   "source": [
    "**2) Realiza un programa que lea un número impar por teclado. Si el usuario no introduce un número impar, debe repetise el proceso hasta que lo introduzca correctamente.**"
   ]
  },
  {
   "cell_type": "code",
   "execution_count": 33,
   "metadata": {},
   "outputs": [
    {
     "name": "stdout",
     "output_type": "stream",
     "text": [
      "Introduce un numero impar: 9\n"
     ]
    }
   ],
   "source": [
    "# Completa el ejercicio aquí\n",
    "numero = 0\n",
    "while numero % 2 == 0:\n",
    "    numero = int(input(\"Introduce un numero impar: \"))\n"
   ]
  },
  {
   "cell_type": "markdown",
   "metadata": {},
   "source": [
    "**3) Realiza un programa que sume todos los números enteros pares desde el 0 hasta el 100:**\n",
    "\n",
    "*Sugerencia: Puedes utilizar la funciones sum() y range() para hacerlo más fácil. El tercer parámetro en la función range(inicio, fin, salto) indica un salto de números, pruébalo.*"
   ]
  },
  {
   "cell_type": "code",
   "execution_count": 48,
   "metadata": {},
   "outputs": [
    {
     "name": "stdout",
     "output_type": "stream",
     "text": [
      "2550\n"
     ]
    }
   ],
   "source": [
    "# Completa el ejercicio aquí\n",
    "\n",
    "num = 0\n",
    "suma = 0\n",
    "\n",
    "while num <= 100:\n",
    "    if num % 2 == 0:\n",
    "        suma += num\n",
    "    num += 1    \n",
    "print(suma)"
   ]
  },
  {
   "cell_type": "markdown",
   "metadata": {},
   "source": [
    "**4) Realiza un programa que pida al usuario cuantos números quiere introducir. Luego lee todos los números y realiza una media aritmética:**\n"
   ]
  },
  {
   "cell_type": "code",
   "execution_count": 56,
   "metadata": {},
   "outputs": [
    {
     "name": "stdout",
     "output_type": "stream",
     "text": [
      "Cuantos numeros quieres introducir?: 3\n",
      "Introduce un numero: 1\n",
      "Introduce un numero: 4\n",
      "Introduce un numero: 9\n",
      "La media de los numeros introducidos es:  4.666666666666667\n"
     ]
    }
   ],
   "source": [
    "# Completa el ejercicio aquí\n",
    "suma = 0\n",
    "cantidad = int(input(\"Cuantos numeros quieres introducir?: \"))\n",
    "for n in range(cantidad):\n",
    "    numero = float(input(\"Introduce un numero: \"))\n",
    "    suma += numero\n",
    "print(\"La media de los numeros introducidos es: \", suma/cantidad)\n",
    "    "
   ]
  },
  {
   "cell_type": "markdown",
   "metadata": {},
   "source": [
    "**5) Realiza un programa que pida al usuario un número entero del 0 al 9, y que mientras el número no sea correcto se repita el proceso. Luego debe comprobar si el número se encuentra en la lista de números y notificarlo:**\n",
    "\n",
    "*Consejo: La sintaxis \"valor in lista\" permite comprobar fácilmente si un valor se encuentra en una lista (devuelve True o False)*"
   ]
  },
  {
   "cell_type": "code",
   "execution_count": 2,
   "metadata": {},
   "outputs": [
    {
     "name": "stdout",
     "output_type": "stream",
     "text": [
      "Introduce un numero del 0 al 9: 9\n",
      "El numero  9  está en la lista\n"
     ]
    }
   ],
   "source": [
    "# Completa el ejercicio aquí\n",
    "numeros = [1, 3, 6, 9]\n",
    "\n",
    "while True:\n",
    "    numero = int(input(\"Introduce un numero del 0 al 9: \"))\n",
    "    if numero >= 0 and numero <=9:\n",
    "        break\n",
    "\n",
    "if numero in numeros:\n",
    "    print(\"El numero \",numero,\" está en la lista\")\n",
    "else:\n",
    "    print(\"El numero \", numero ,\" no está en la lista\")\n",
    "        \n"
   ]
  },
  {
   "cell_type": "markdown",
   "metadata": {},
   "source": [
    "**6) Utilizando la función range() y la conversión a listas genera las siguientes listas dinámicamente:**\n",
    "* Todos los números del 0 al 10 [0, 1, 2, ..., 10]\n",
    "* Todos los números del -10 al 0 [-10, -9, -8, ..., 0]\n",
    "* Todos los números pares del 0 al 20 [0, 2, 4, ..., 20]\n",
    "* Todos los números impares entre -20 y 0 [-19, -17, -15, ..., -1]\n",
    "* Todos los números múltiples de 5 del 0 al 50 [0, 5, 10, ..., 50]\n",
    "\n",
    "*Pista: Utiliza el tercer parámetro de la función range(inicio, fin, salto).*"
   ]
  },
  {
   "cell_type": "code",
   "execution_count": 15,
   "metadata": {},
   "outputs": [
    {
     "name": "stdout",
     "output_type": "stream",
     "text": [
      "[0, 1, 2, 3, 4, 5, 6, 7, 8, 9, 10]\n",
      "[-10, -9, -8, -7, -6, -5, -4, -3, -2, -1, 0]\n",
      "[0, 2, 4, 6, 8, 10, 12, 14, 16, 18, 20]\n",
      "[-19, -17, -15, -13, -11, -9, -7, -5, -3, -1]\n",
      "[5, 10, 15, 20, 25, 30, 35, 40, 45, 50]\n"
     ]
    }
   ],
   "source": [
    "# Completa el ejercicio\n",
    "print(list(range(0,11)))\n",
    "print(list(range(-10,1)))\n",
    "print(list(range(0,22,2)))\n",
    "print(list(range(-19,1,2)))\n",
    "print(list(range(5,55,5)))\n"
   ]
  },
  {
   "cell_type": "markdown",
   "metadata": {},
   "source": [
    "**7) Dadas dos listas, debes generar una tercera con todos los elementos que se repitan en ellas, pero no debe repetise ningún elemento en la nueva lista:**"
   ]
  },
  {
   "cell_type": "code",
   "execution_count": 19,
   "metadata": {},
   "outputs": [
    {
     "name": "stdout",
     "output_type": "stream",
     "text": [
      "['o']\n"
     ]
    }
   ],
   "source": [
    "# Completa el ejercicio aquí\n",
    "lista1=[\"c\",\"u\",\"r\",\"s\",\"o\"]\n",
    "lista2=[\"p\",\"y\",\"t\",\"h\",\"o\",\"n\"]\n",
    "lista3=[]\n",
    "\n",
    "for letra in lista1:\n",
    "    if letra in lista2 and letra not in lista3:\n",
    "        lista3.append(letra)\n",
    "\n",
    "print(lista3)\n"
   ]
  },
  {
   "cell_type": "code",
   "execution_count": null,
   "metadata": {},
   "outputs": [],
   "source": []
  }
 ],
 "metadata": {
  "anaconda-cloud": {},
  "kernelspec": {
   "display_name": "Python 3",
   "language": "python",
   "name": "python3"
  },
  "language_info": {
   "codemirror_mode": {
    "name": "ipython",
    "version": 3
   },
   "file_extension": ".py",
   "mimetype": "text/x-python",
   "name": "python",
   "nbconvert_exporter": "python",
   "pygments_lexer": "ipython3",
   "version": "3.6.5"
  }
 },
 "nbformat": 4,
 "nbformat_minor": 1
}
